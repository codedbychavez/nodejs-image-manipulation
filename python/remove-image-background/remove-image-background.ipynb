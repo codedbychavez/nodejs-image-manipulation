{
 "cells": [
  {
   "cell_type": "code",
   "execution_count": 4,
   "id": "342ef609",
   "metadata": {},
   "outputs": [],
   "source": [
    "from rembg import remove\n",
    "from PIL import Image"
   ]
  },
  {
   "cell_type": "code",
   "execution_count": 5,
   "id": "79feda44",
   "metadata": {},
   "outputs": [],
   "source": [
    "# Open the image\n",
    "input = Image.open('basketball.webp')"
   ]
  },
  {
   "cell_type": "code",
   "execution_count": 8,
   "id": "e41b951b",
   "metadata": {},
   "outputs": [],
   "source": [
    "# Use rembg to remove the background from the image\n",
    "output = remove(input)"
   ]
  },
  {
   "cell_type": "code",
   "execution_count": 7,
   "id": "0d7d8819",
   "metadata": {},
   "outputs": [],
   "source": [
    "# Save the result image\n",
    "output.save('output.png')"
   ]
  },
  {
   "attachments": {},
   "cell_type": "markdown",
   "id": "849b498d",
   "metadata": {},
   "source": [
    "## Notes\n",
    "\n",
    "Cases that will benefit from this operation\n",
    "- https://i1.wp.com/www.showspace.co.za/showspaceimages/dewet/12058.jpg?resize=1&w=1"
   ]
  }
 ],
 "metadata": {
  "kernelspec": {
   "display_name": "Python 3 (ipykernel)",
   "language": "python",
   "name": "python3"
  },
  "language_info": {
   "codemirror_mode": {
    "name": "ipython",
    "version": 3
   },
   "file_extension": ".py",
   "mimetype": "text/x-python",
   "name": "python",
   "nbconvert_exporter": "python",
   "pygments_lexer": "ipython3",
   "version": "3.9.7"
  }
 },
 "nbformat": 4,
 "nbformat_minor": 5
}
