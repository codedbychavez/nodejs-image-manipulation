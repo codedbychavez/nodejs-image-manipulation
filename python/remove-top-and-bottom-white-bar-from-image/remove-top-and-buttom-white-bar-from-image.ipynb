{
 "cells": [
  {
   "cell_type": "code",
   "execution_count": 5,
   "metadata": {},
   "outputs": [],
   "source": [
    "from typing import Tuple\n",
    "from PIL.Image import Image as PilImage\n",
    "from PIL import Image"
   ]
  },
  {
   "cell_type": "code",
   "execution_count": 6,
   "metadata": {},
   "outputs": [],
   "source": [
    "\n",
    "def is_in_color_range(px: Tuple[int, int, int], minimal_color:int) -> bool:\n",
    "    return px[0] >= minimal_color and px[1] >= minimal_color and px[2] >= minimal_color\n",
    "\n",
    "\n",
    "def is_line_color_range(im: PilImage, y: int, minimal_color: int) -> bool:\n",
    "    width, _ = im.size\n",
    "\n",
    "    for x in range(0, width-1):\n",
    "        px = im.getpixel((x, y))\n",
    "        if not is_in_color_range(px, minimal_color):\n",
    "            return False\n",
    "    return True\n",
    "\n",
    "\n",
    "def is_column_color_range(im: PilImage, x: int, minimal_color: int) -> bool:\n",
    "    _, height = im.size\n",
    "\n",
    "    for y in range(0, height-1):\n",
    "        px = im.getpixel((x, y))\n",
    "        if not is_in_color_range(px, minimal_color):\n",
    "            return False\n",
    "    return True\n"
   ]
  },
  {
   "cell_type": "code",
   "execution_count": 7,
   "metadata": {},
   "outputs": [],
   "source": [
    "# White bar detection\n",
    "\n",
    "# Using the functions above, we can detect the white bars in an image. If the image has a left white bar, we will skip the image.\n",
    "\n",
    "def remove_bars(im: PilImage, minimal_color: int) -> Tuple[PilImage, bool]:\n",
    "\n",
    "    width, height = im.size\n",
    "    top = 0\n",
    "    bottom = height-1\n",
    "\n",
    "    # if left border if same color -- skip, because we have no bars\n",
    "    if is_column_color_range(im, 0, minimal_color):\n",
    "        return im, False\n",
    "\n",
    "    # calc white pixel rows from the top\n",
    "    while is_line_color_range(im, top, minimal_color):\n",
    "        top += 1\n",
    "\n",
    "    # calc white pixel rows from the bottom\n",
    "    while is_line_color_range(im, bottom, minimal_color):\n",
    "        bottom -= 1\n",
    "\n",
    "    # no white bars detected\n",
    "    if top == 0 or bottom == height-1:\n",
    "        return im, False\n",
    "\n",
    "    # crop based on bars\n",
    "    bbox = (0, top, width, bottom)\n",
    "    return im.crop(bbox), True"
   ]
  },
  {
   "cell_type": "code",
   "execution_count": 8,
   "metadata": {},
   "outputs": [
    {
     "name": "stdout",
     "output_type": "stream",
     "text": [
      "True\n"
     ]
    }
   ],
   "source": [
    "# Process the image\n",
    "\n",
    "input = Image.open('example-image.png')\n",
    "output = remove_bars(input, 250)\n",
    "\n",
    "# Save the result image\n",
    "image = output[0]\n",
    "print(output[1])\n",
    "\n",
    "image.save('output.png')"
   ]
  },
  {
   "attachments": {},
   "cell_type": "markdown",
   "metadata": {},
   "source": [
    "### References\n",
    "- [cropping-model-images-using-pil](https://keestalkstech.com/2020/05/cropping-model-images-using-pil/)"
   ]
  }
 ],
 "metadata": {
  "kernelspec": {
   "display_name": "venv",
   "language": "python",
   "name": "python3"
  },
  "language_info": {
   "codemirror_mode": {
    "name": "ipython",
    "version": 3
   },
   "file_extension": ".py",
   "mimetype": "text/x-python",
   "name": "python",
   "nbconvert_exporter": "python",
   "pygments_lexer": "ipython3",
   "version": "3.9.7"
  },
  "orig_nbformat": 4
 },
 "nbformat": 4,
 "nbformat_minor": 2
}
