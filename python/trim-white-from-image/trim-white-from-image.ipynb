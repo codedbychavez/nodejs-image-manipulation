{
 "cells": [
  {
   "attachments": {},
   "cell_type": "markdown",
   "id": "f6a88cb2",
   "metadata": {},
   "source": [
    "## References\n",
    "\n",
    "https://gist.github.com/thomastweets/c7680e41ed88452d3c63401bb35116ed"
   ]
  },
  {
   "cell_type": "code",
   "execution_count": 16,
   "id": "342ef609",
   "metadata": {},
   "outputs": [],
   "source": [
    "from PIL import Image\n",
    "from PIL import ImageOps"
   ]
  },
  {
   "cell_type": "code",
   "execution_count": 12,
   "id": "85bc03cc",
   "metadata": {},
   "outputs": [],
   "source": [
    "# Loads the image\n",
    "\n",
    "image = Image.open('color-image.png')\n",
    "image.load()\n",
    "imageSize = image.size"
   ]
  },
  {
   "cell_type": "code",
   "execution_count": 13,
   "id": "8c7a631b",
   "metadata": {},
   "outputs": [],
   "source": [
    "# Remove alpha channel\n",
    "invert_image = image.convert(\"RGB\")"
   ]
  },
  {
   "cell_type": "code",
   "execution_count": 14,
   "id": "c12b844b",
   "metadata": {},
   "outputs": [],
   "source": [
    "# Invert image (so that white is 0)\n",
    "invert_image = ImageOps.invert(invert_image)\n",
    "imageBox = invert_image.getbbox()"
   ]
  },
  {
   "cell_type": "code",
   "execution_count": 15,
   "id": "42b40e73",
   "metadata": {},
   "outputs": [
    {
     "name": "stdout",
     "output_type": "stream",
     "text": [
      "Size:  (635, 636) New Size:  (0, 0, 635, 532)\n"
     ]
    }
   ],
   "source": [
    "cropped = image.crop(imageBox)\n",
    "print(\"Size: \", imageSize, \"New Size: \", imageBox)\n",
    "cropped.save('output.png')"
   ]
  },
  {
   "cell_type": "markdown",
   "id": "5e6e898f",
   "metadata": {},
   "source": []
  }
 ],
 "metadata": {
  "kernelspec": {
   "display_name": "Python 3 (ipykernel)",
   "language": "python",
   "name": "python3"
  },
  "language_info": {
   "codemirror_mode": {
    "name": "ipython",
    "version": 3
   },
   "file_extension": ".py",
   "mimetype": "text/x-python",
   "name": "python",
   "nbconvert_exporter": "python",
   "pygments_lexer": "ipython3",
   "version": "3.9.7"
  }
 },
 "nbformat": 4,
 "nbformat_minor": 5
}
